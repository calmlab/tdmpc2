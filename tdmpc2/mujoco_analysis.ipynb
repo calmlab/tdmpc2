{
 "cells": [
  {
   "cell_type": "markdown",
   "metadata": {},
   "source": [
    "### Deepmind dm_control 분석"
   ]
  },
  {
   "cell_type": "code",
   "execution_count": 1,
   "metadata": {},
   "outputs": [
    {
     "name": "stderr",
     "output_type": "stream",
     "text": [
      "/home/calm02/miniconda3/envs/tdmpc2/lib/python3.9/site-packages/glfw/__init__.py:916: GLFWError: (65544) b'X11: The DISPLAY environment variable is missing'\n",
      "  warnings.warn(message, GLFWError)\n"
     ]
    }
   ],
   "source": [
    "import collections\n",
    "\n",
    "from dm_control import mujoco\n",
    "from dm_control.suite import common\n",
    "from dm_control.utils import containers\n",
    "\n",
    "\n",
    "_DEFAULT_TIME_LIMIT = 25\n",
    "_CONTROL_TIMESTEP = .025\n",
    "\n",
    "# Minimal height of torso over foot above which stand reward is 1.\n",
    "_STAND_HEIGHT = 1.2\n",
    "\n",
    "# Horizontal speeds (meters/second) above which move reward is 1.\n",
    "_WALK_SPEED = 1\n",
    "_RUN_SPEED = 8\n",
    "\n",
    "\n",
    "SUITE = containers.TaggedTasks()"
   ]
  },
  {
   "cell_type": "markdown",
   "metadata": {},
   "source": [
    "1. 아래 common.read_model에 분석할 대상 xml 을 지정하시오.\n",
    "\n",
    "    예)/home/pipaek/data/project/dm_control/dm_control/suite/walker.xml"
   ]
  },
  {
   "cell_type": "code",
   "execution_count": 2,
   "metadata": {},
   "outputs": [],
   "source": [
    "def get_model_and_assets():\n",
    "  \"\"\"Returns a tuple containing the model XML string and a dict of assets.\"\"\"\n",
    "  return common.read_model('walker.xml'), common.ASSETS"
   ]
  },
  {
   "cell_type": "markdown",
   "metadata": {},
   "source": [
    "action의 경우 xml 파일 안에 잘 정의되어 있음\n",
    "\n",
    "```\n",
    "<actuator>\n",
    "    <motor name=\"right_hip\" joint=\"right_hip\" gear=\"100\"/>\n",
    "    <motor name=\"right_knee\" joint=\"right_knee\" gear=\"50\"/>\n",
    "    <motor name=\"right_ankle\" joint=\"right_ankle\" gear=\"20\"/>\n",
    "    <motor name=\"left_hip\" joint=\"left_hip\" gear=\"100\"/>\n",
    "    <motor name=\"left_knee\" joint=\"left_knee\" gear=\"50\"/>\n",
    "    <motor name=\"left_ankle\" joint=\"left_ankle\" gear=\"20\"/>\n",
    "</actuator>\n",
    "```"
   ]
  },
  {
   "cell_type": "markdown",
   "metadata": {},
   "source": [
    "2. 해당 모델의 파이썬 모듈에서 Physics 정의를 가져오시오.\n",
    "\n",
    "    예)/home/pipaek/data/project/dm_control/dm_control/suite/walker.py"
   ]
  },
  {
   "cell_type": "code",
   "execution_count": 18,
   "metadata": {},
   "outputs": [],
   "source": [
    "class Physics(mujoco.Physics):\n",
    "  \"\"\"Physics simulation with additional features for the Walker domain.\"\"\"\n",
    "\n",
    "  def torso_upright(self):\n",
    "    \"\"\"Returns projection from z-axes of torso to the z-axes of world.\"\"\"\n",
    "    return self.named.data.xmat['torso', 'zz']\n",
    "\n",
    "  def torso_height(self):\n",
    "    \"\"\"Returns the height of the torso.\"\"\"\n",
    "    return self.named.data.xpos['torso', 'z']\n",
    "\n",
    "  def horizontal_velocity(self):\n",
    "    \"\"\"Returns the horizontal velocity of the center-of-mass.\"\"\"\n",
    "    return self.named.data.sensordata['torso_subtreelinvel'][0]\n",
    "\n",
    "  def orientations(self):\n",
    "    \"\"\"Returns planar orientations of all bodies.\"\"\"\n",
    "    return self.named.data.xmat[1:, ['xx', 'xz']].ravel()\n",
    "  \n",
    "  def velocity(self):\n",
    "    return super().velocity()\n"
   ]
  },
  {
   "cell_type": "markdown",
   "metadata": {},
   "source": [
    "3. task의 observation_spec과 action_spec"
   ]
  },
  {
   "cell_type": "code",
   "execution_count": 4,
   "metadata": {},
   "outputs": [],
   "source": [
    "from dm_control import suite\n",
    "from envs.wrappers.pixels import PixelWrapper\n",
    "from envs.wrappers.tensor import TensorWrapper\n",
    "from envs.dmcontrol import make_env\n",
    "\n",
    "from omegaconf import OmegaConf\n",
    "cfg = OmegaConf.load('config.yaml')\n",
    "cfg.task = 'walker-walk'\n",
    "env=make_env(cfg)\n",
    "\n",
    "# env = suite.load('walker',\n",
    "# \t\t\t\t\t 'walk',\n",
    "# \t\t\t\t\t task_kwargs={'random': 1},\n",
    "# \t\t\t\t\t visualize_reward=False)\n",
    "# env = TensorWrapper(env)"
   ]
  },
  {
   "cell_type": "code",
   "execution_count": 5,
   "metadata": {},
   "outputs": [
    {
     "data": {
      "text/plain": [
       "Box([-inf -inf -inf -inf -inf -inf -inf -inf -inf -inf -inf -inf -inf -inf\n",
       " -inf -inf -inf -inf -inf -inf -inf -inf -inf -inf], [inf inf inf inf inf inf inf inf inf inf inf inf inf inf inf inf inf inf\n",
       " inf inf inf inf inf inf], (24,), float32)"
      ]
     },
     "execution_count": 5,
     "metadata": {},
     "output_type": "execute_result"
    }
   ],
   "source": [
    "env.observation_space"
   ]
  },
  {
   "cell_type": "code",
   "execution_count": 6,
   "metadata": {},
   "outputs": [
    {
     "data": {
      "text/plain": [
       "Box([-1. -1. -1. -1. -1. -1.], [1. 1. 1. 1. 1. 1.], (6,), float32)"
      ]
     },
     "execution_count": 6,
     "metadata": {},
     "output_type": "execute_result"
    }
   ],
   "source": [
    "env.action_space"
   ]
  },
  {
   "cell_type": "markdown",
   "metadata": {},
   "source": [
    "4. 2번에서 구했던 파이썬 모듈의 task의 클래스에서 get_observation 메소드를 찾아서 physics와의 연결고리를 구하라. \n",
    "이후 physics.named.data 와의 연결고리를 찾아나가다 보면 답을 얻을 수 있다. \n",
    "\n",
    "```\n",
    "def get_observation(self, physics):\n",
    "    \"\"\"Returns an observation of body orientations, height and velocites.\"\"\"\n",
    "    obs = collections.OrderedDict()\n",
    "    obs['orientations'] = physics.orientations()\n",
    "    obs['height'] = physics.torso_height()\n",
    "    obs['velocity'] = physics.velocity()\n",
    "    return obs\n",
    "```"
   ]
  },
  {
   "cell_type": "code",
   "execution_count": 7,
   "metadata": {},
   "outputs": [],
   "source": [
    "# https://mujoco.readthedocs.io/en/stable/APIreference/APItypes.html#mjdata\n",
    "physics = Physics.from_xml_string(*get_model_and_assets())"
   ]
  },
  {
   "cell_type": "code",
   "execution_count": 8,
   "metadata": {},
   "outputs": [
    {
     "data": {
      "text/plain": [
       "array([1., 0., 1., 0., 1., 0., 1., 0., 1., 0., 1., 0., 1., 0.])"
      ]
     },
     "execution_count": 8,
     "metadata": {},
     "output_type": "execute_result"
    }
   ],
   "source": [
    "physics.orientations()"
   ]
  },
  {
   "cell_type": "code",
   "execution_count": 9,
   "metadata": {},
   "outputs": [
    {
     "data": {
      "text/plain": [
       "1.3"
      ]
     },
     "execution_count": 9,
     "metadata": {},
     "output_type": "execute_result"
    }
   ],
   "source": [
    "physics.torso_height()"
   ]
  },
  {
   "cell_type": "code",
   "execution_count": 19,
   "metadata": {},
   "outputs": [
    {
     "data": {
      "text/plain": [
       "9"
      ]
     },
     "execution_count": 19,
     "metadata": {},
     "output_type": "execute_result"
    }
   ],
   "source": [
    "physics.velocity()"
   ]
  },
  {
   "cell_type": "code",
   "execution_count": null,
   "metadata": {},
   "outputs": [],
   "source": []
  },
  {
   "cell_type": "code",
   "execution_count": 16,
   "metadata": {},
   "outputs": [
    {
     "data": {
      "text/plain": [
       "['D_colind',\n",
       " 'D_rowadr',\n",
       " 'D_rownnz',\n",
       " '__class__',\n",
       " '__delattr__',\n",
       " '__dir__',\n",
       " '__doc__',\n",
       " '__eq__',\n",
       " '__format__',\n",
       " '__ge__',\n",
       " '__getattribute__',\n",
       " '__gt__',\n",
       " '__hash__',\n",
       " '__init__',\n",
       " '__init_subclass__',\n",
       " '__le__',\n",
       " '__lt__',\n",
       " '__module__',\n",
       " '__ne__',\n",
       " '__new__',\n",
       " '__reduce__',\n",
       " '__reduce_ex__',\n",
       " '__repr__',\n",
       " '__setattr__',\n",
       " '__sizeof__',\n",
       " '__slots__',\n",
       " '__str__',\n",
       " '__subclasshook__',\n",
       " '_asdict',\n",
       " 'act',\n",
       " 'act_dot',\n",
       " 'actuator_force',\n",
       " 'actuator_length',\n",
       " 'actuator_moment',\n",
       " 'actuator_velocity',\n",
       " 'cacc',\n",
       " 'cam_xmat',\n",
       " 'cam_xpos',\n",
       " 'cdof',\n",
       " 'cdof_dot',\n",
       " 'cfrc_ext',\n",
       " 'cfrc_int',\n",
       " 'cinert',\n",
       " 'crb',\n",
       " 'ctrl',\n",
       " 'cvel',\n",
       " 'geom_xmat',\n",
       " 'geom_xpos',\n",
       " 'light_xdir',\n",
       " 'light_xpos',\n",
       " 'mocap_pos',\n",
       " 'mocap_quat',\n",
       " 'plugin',\n",
       " 'plugin_data',\n",
       " 'plugin_state',\n",
       " 'qDeriv',\n",
       " 'qH',\n",
       " 'qHDiagInv',\n",
       " 'qLD',\n",
       " 'qLDiagInv',\n",
       " 'qLDiagSqrtInv',\n",
       " 'qLU',\n",
       " 'qM',\n",
       " 'qacc',\n",
       " 'qacc_smooth',\n",
       " 'qacc_warmstart',\n",
       " 'qfrc_actuator',\n",
       " 'qfrc_applied',\n",
       " 'qfrc_bias',\n",
       " 'qfrc_constraint',\n",
       " 'qfrc_inverse',\n",
       " 'qfrc_passive',\n",
       " 'qfrc_smooth',\n",
       " 'qpos',\n",
       " 'qvel',\n",
       " 'sensordata',\n",
       " 'site_xmat',\n",
       " 'site_xpos',\n",
       " 'subtree_angmom',\n",
       " 'subtree_com',\n",
       " 'subtree_linvel',\n",
       " 'ten_J',\n",
       " 'ten_J_colind',\n",
       " 'ten_J_rowadr',\n",
       " 'ten_J_rownnz',\n",
       " 'ten_length',\n",
       " 'ten_velocity',\n",
       " 'ten_wrapadr',\n",
       " 'ten_wrapnum',\n",
       " 'userdata',\n",
       " 'wrap_obj',\n",
       " 'wrap_xpos',\n",
       " 'xanchor',\n",
       " 'xaxis',\n",
       " 'xfrc_applied',\n",
       " 'ximat',\n",
       " 'xipos',\n",
       " 'xmat',\n",
       " 'xpos',\n",
       " 'xquat']"
      ]
     },
     "execution_count": 16,
     "metadata": {},
     "output_type": "execute_result"
    }
   ],
   "source": [
    "dir(physics.named.data)"
   ]
  },
  {
   "cell_type": "code",
   "execution_count": null,
   "metadata": {},
   "outputs": [],
   "source": []
  },
  {
   "cell_type": "code",
   "execution_count": 15,
   "metadata": {},
   "outputs": [
    {
     "data": {
      "text/plain": [
       "FieldIndexer(qvel):\n",
       "0       rootz [ 0       ]\n",
       "1       rootx [ 0       ]\n",
       "2       rooty [ 0       ]\n",
       "3   right_hip [ 0       ]\n",
       "4  right_knee [ 0       ]\n",
       "5 right_ankle [ 0       ]\n",
       "6    left_hip [ 0       ]\n",
       "7   left_knee [ 0       ]\n",
       "8  left_ankle [ 0       ]"
      ]
     },
     "execution_count": 15,
     "metadata": {},
     "output_type": "execute_result"
    }
   ],
   "source": [
    "physics.named.data.qvel"
   ]
  },
  {
   "cell_type": "code",
   "execution_count": 17,
   "metadata": {},
   "outputs": [
    {
     "data": {
      "text/plain": [
       "FieldIndexer(cvel):\n",
       "0       world [ 0         0         0         0         0         0       ]\n",
       "1       torso [ 0         0         0         0         0         0       ]\n",
       "2 right_thigh [ 0         0         0         0         0         0       ]\n",
       "3   right_leg [ 0         0         0         0         0         0       ]\n",
       "4  right_foot [ 0         0         0         0         0         0       ]\n",
       "5  left_thigh [ 0         0         0         0         0         0       ]\n",
       "6    left_leg [ 0         0         0         0         0         0       ]\n",
       "7   left_foot [ 0         0         0         0         0         0       ]"
      ]
     },
     "execution_count": 17,
     "metadata": {},
     "output_type": "execute_result"
    }
   ],
   "source": [
    "# velocity of center of mass \n",
    "physics.named.data.cvel"
   ]
  },
  {
   "cell_type": "code",
   "execution_count": 23,
   "metadata": {},
   "outputs": [
    {
     "data": {
      "text/plain": [
       "FieldIndexer(sensordata):\n",
       "0 torso_subtreelinvel [ 0       ]\n",
       "1 torso_subtreelinvel [ 0       ]\n",
       "2 torso_subtreelinvel [ 0       ]"
      ]
     },
     "execution_count": 23,
     "metadata": {},
     "output_type": "execute_result"
    }
   ],
   "source": [
    "physics.named.data.sensordata"
   ]
  },
  {
   "cell_type": "code",
   "execution_count": 12,
   "metadata": {},
   "outputs": [
    {
     "data": {
      "text/plain": [
       "FieldIndexer(xpos):\n",
       "                x         y         z         \n",
       "0       world [ 0         0         0       ]\n",
       "1       torso [ 0         0         1.3     ]\n",
       "2 right_thigh [ 0        -0.05      1       ]\n",
       "3   right_leg [ 0        -0.05      0.3     ]\n",
       "4  right_foot [ 0.06     -0.05      0.05    ]\n",
       "5  left_thigh [ 0         0.05      1       ]\n",
       "6    left_leg [ 0         0.05      0.3     ]\n",
       "7   left_foot [ 0.06      0.05      0.05    ]"
      ]
     },
     "execution_count": 12,
     "metadata": {},
     "output_type": "execute_result"
    }
   ],
   "source": [
    "physics.named.data.xpos"
   ]
  },
  {
   "cell_type": "code",
   "execution_count": 13,
   "metadata": {},
   "outputs": [
    {
     "data": {
      "text/plain": [
       "FieldIndexer(xmat):\n",
       "                xx        xy        xz        yx        yy        yz        zx        zy        zz        \n",
       "0       world [ 1         0         0         0         1         0         0\n",
       "  0         1       ]\n",
       "1       torso [ 1         0         0         0         1         0         0\n",
       "  0         1       ]\n",
       "2 right_thigh [ 1         0         0         0         1         0         0\n",
       "  0         1       ]\n",
       "3   right_leg [ 1         0         0         0         1         0         0\n",
       "  0         1       ]\n",
       "4  right_foot [ 1         0         0         0         1         0         0\n",
       "  0         1       ]\n",
       "5  left_thigh [ 1         0         0         0         1         0         0\n",
       "  0         1       ]\n",
       "6    left_leg [ 1         0         0         0         1         0         0\n",
       "  0         1       ]\n",
       "7   left_foot [ 1         0         0         0         1         0         0\n",
       "  0         1       ]"
      ]
     },
     "execution_count": 13,
     "metadata": {},
     "output_type": "execute_result"
    }
   ],
   "source": [
    "physics.named.data.xmat"
   ]
  },
  {
   "cell_type": "code",
   "execution_count": 16,
   "metadata": {},
   "outputs": [
    {
     "data": {
      "text/plain": [
       "FieldIndexer(sensordata):\n",
       "0 torso_subtreelinvel [ 0       ]\n",
       "1 torso_subtreelinvel [ 0       ]\n",
       "2 torso_subtreelinvel [ 0       ]"
      ]
     },
     "execution_count": 16,
     "metadata": {},
     "output_type": "execute_result"
    }
   ],
   "source": [
    "physics.named.data.sensordata"
   ]
  },
  {
   "cell_type": "code",
   "execution_count": 15,
   "metadata": {},
   "outputs": [
    {
     "data": {
      "text/plain": [
       "array([[1., 0.],\n",
       "       [1., 0.],\n",
       "       [1., 0.],\n",
       "       [1., 0.],\n",
       "       [1., 0.],\n",
       "       [1., 0.],\n",
       "       [1., 0.]])"
      ]
     },
     "execution_count": 15,
     "metadata": {},
     "output_type": "execute_result"
    }
   ],
   "source": [
    "physics.named.data.xmat[1:, ['xx', 'xz']]"
   ]
  },
  {
   "cell_type": "code",
   "execution_count": 18,
   "metadata": {},
   "outputs": [
    {
     "data": {
      "text/plain": [
       "array([0., 0., 0.])"
      ]
     },
     "execution_count": 18,
     "metadata": {},
     "output_type": "execute_result"
    }
   ],
   "source": [
    "physics.named.data.sensordata['torso_subtreelinvel']"
   ]
  },
  {
   "cell_type": "code",
   "execution_count": 19,
   "metadata": {},
   "outputs": [
    {
     "data": {
      "text/plain": [
       "array([0., 0., 0., 0., 0., 0., 0., 0., 0.])"
      ]
     },
     "execution_count": 19,
     "metadata": {},
     "output_type": "execute_result"
    }
   ],
   "source": [
    "physics.velocity()"
   ]
  },
  {
   "cell_type": "code",
   "execution_count": 20,
   "metadata": {},
   "outputs": [
    {
     "data": {
      "text/plain": [
       "array([0., 0., 0., 0., 0., 0., 0., 0., 0.])"
      ]
     },
     "execution_count": 20,
     "metadata": {},
     "output_type": "execute_result"
    }
   ],
   "source": [
    "physics.data.qvel"
   ]
  },
  {
   "cell_type": "code",
   "execution_count": 21,
   "metadata": {},
   "outputs": [
    {
     "data": {
      "text/plain": [
       "<dm_control.mujoco.wrapper.core.MjData at 0x7fef34bdbbe0>"
      ]
     },
     "execution_count": 21,
     "metadata": {},
     "output_type": "execute_result"
    }
   ],
   "source": [
    "physics.data"
   ]
  },
  {
   "cell_type": "code",
   "execution_count": 22,
   "metadata": {},
   "outputs": [
    {
     "data": {
      "text/plain": [
       "<mujoco._structs.MjData at 0x7fef0dbac330>"
      ]
     },
     "execution_count": 22,
     "metadata": {},
     "output_type": "execute_result"
    }
   ],
   "source": [
    "physics.data.ptr"
   ]
  },
  {
   "cell_type": "code",
   "execution_count": 24,
   "metadata": {},
   "outputs": [
    {
     "data": {
      "text/plain": [
       "FieldIndexer(qvel):\n",
       "0       rootz [ 0       ]\n",
       "1       rootx [ 0       ]\n",
       "2       rooty [ 0       ]\n",
       "3   right_hip [ 0       ]\n",
       "4  right_knee [ 0       ]\n",
       "5 right_ankle [ 0       ]\n",
       "6    left_hip [ 0       ]\n",
       "7   left_knee [ 0       ]\n",
       "8  left_ankle [ 0       ]"
      ]
     },
     "execution_count": 24,
     "metadata": {},
     "output_type": "execute_result"
    }
   ],
   "source": [
    "physics.named.data.qvel"
   ]
  },
  {
   "cell_type": "code",
   "execution_count": null,
   "metadata": {},
   "outputs": [],
   "source": []
  }
 ],
 "metadata": {
  "kernelspec": {
   "display_name": "tdmpc2",
   "language": "python",
   "name": "python3"
  },
  "language_info": {
   "codemirror_mode": {
    "name": "ipython",
    "version": 3
   },
   "file_extension": ".py",
   "mimetype": "text/x-python",
   "name": "python",
   "nbconvert_exporter": "python",
   "pygments_lexer": "ipython3",
   "version": "3.9.0"
  }
 },
 "nbformat": 4,
 "nbformat_minor": 2
}
