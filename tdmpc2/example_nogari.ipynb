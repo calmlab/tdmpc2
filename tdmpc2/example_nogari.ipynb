{
 "cells": [
  {
   "cell_type": "code",
   "execution_count": 1,
   "metadata": {},
   "outputs": [
    {
     "name": "stderr",
     "output_type": "stream",
     "text": [
      "/home/calm02/miniconda3/envs/tdmpc2/lib/python3.9/site-packages/glfw/__init__.py:916: GLFWError: (65544) b'X11: The DISPLAY environment variable is missing'\n",
      "  warnings.warn(message, GLFWError)\n"
     ]
    }
   ],
   "source": [
    "import torch\n",
    "import numpy as np\n",
    "import torch\n",
    "import torch.nn as nn\n",
    "\n",
    "from dialectic import DialecticImitation\n",
    "from trainer.online_trainer import OnlineDialecticImitationTrainer\n",
    "from tensordict.tensordict import TensorDict\n",
    "from envs import make_env\n",
    "import importlib\n",
    "from common.seed import set_seed\n",
    "\n",
    "from omegaconf import OmegaConf\n",
    "cfg = OmegaConf.load('dialectic_config.yaml')\n",
    "set_seed(cfg.seed)\n"
   ]
  },
  {
   "cell_type": "code",
   "execution_count": 2,
   "metadata": {},
   "outputs": [],
   "source": [
    "agent = DialecticImitation(cfg)\n",
    "env = make_env(cfg)"
   ]
  },
  {
   "cell_type": "code",
   "execution_count": 3,
   "metadata": {},
   "outputs": [
    {
     "name": "stdout",
     "output_type": "stream",
     "text": [
      "DualModel(\n",
      "  (_brain_l): Sequential(\n",
      "    (0): NormedLinear(in_features=18, out_features=512, bias=True, act=Mish)\n",
      "    (1): NormedLinear(in_features=512, out_features=512, bias=True, act=Mish)\n",
      "    (2): Linear(in_features=512, out_features=6, bias=True)\n",
      "  )\n",
      "  (_brain_r): Sequential(\n",
      "    (0): NormedLinear(in_features=18, out_features=512, bias=True, act=Mish)\n",
      "    (1): NormedLinear(in_features=512, out_features=512, bias=True, act=Mish)\n",
      "    (2): Linear(in_features=512, out_features=6, bias=True)\n",
      "  )\n",
      ")\n"
     ]
    }
   ],
   "source": [
    "print(agent.model)"
   ]
  },
  {
   "cell_type": "code",
   "execution_count": 6,
   "metadata": {},
   "outputs": [],
   "source": [
    "obs = env.reset()\n",
    "tds_l = []\n",
    "tds_r = []\n",
    "# to_td = OnlineDialecticImitationTrainer.to_td\n",
    "\n",
    "# obs_l = obs[agent.obs_filter_l]\n",
    "# obs_r = obs[agent.obs_filter_r]"
   ]
  },
  {
   "cell_type": "code",
   "execution_count": 10,
   "metadata": {},
   "outputs": [],
   "source": [
    "def to_td(obs, action=None, reward=None, mu=None, sigma_sq=None):\n",
    "    \"\"\"Creates a TensorDict for a new episode.\"\"\"\n",
    "    if isinstance(obs, dict):\n",
    "        obs = TensorDict(obs, batch_size=(), device='cpu')\n",
    "    else:\n",
    "        obs = obs.unsqueeze(0).cpu()\n",
    "    if action is None:\n",
    "        action = torch.full_like(env.rand_act(), float('nan'))\n",
    "    if reward is None:\n",
    "        reward = torch.tensor(float('nan'))\n",
    "    if mu is None:\n",
    "        mu = torch.full_like(env.rand_act(), float('nan'))\n",
    "    if sigma_sq is None:\n",
    "        sigma_sq = torch.full_like(env.rand_act(), float('nan'))\n",
    "    td = TensorDict(dict(\n",
    "        obs=obs,\n",
    "        action=action.unsqueeze(0),\n",
    "        reward=reward.unsqueeze(0),\n",
    "        mu=mu.unsqueeze(0),\n",
    "        sigma_sq=sigma_sq.unsqueeze(0),\n",
    "    ), batch_size=(1,))\n",
    "    return td"
   ]
  },
  {
   "cell_type": "code",
   "execution_count": 11,
   "metadata": {},
   "outputs": [],
   "source": [
    "# interactive\n",
    "action_l, _, dist_l = agent.act(obs)\n",
    "action_r, _, dist_r = agent.act(obs)\n",
    "\n",
    "action = torch.concat([action_l, action_r], dim=1).detach()\n",
    "action = action[0].detach().cpu()"
   ]
  },
  {
   "cell_type": "code",
   "execution_count": 12,
   "metadata": {},
   "outputs": [],
   "source": [
    "obs, reward, done, info = env.step(action)"
   ]
  },
  {
   "cell_type": "code",
   "execution_count": 13,
   "metadata": {},
   "outputs": [
    {
     "ename": "AttributeError",
     "evalue": "'Tensor' object has no attribute 'env'",
     "output_type": "error",
     "traceback": [
      "\u001b[0;31m---------------------------------------------------------------------------\u001b[0m",
      "\u001b[0;31mAttributeError\u001b[0m                            Traceback (most recent call last)",
      "Cell \u001b[0;32mIn[13], line 1\u001b[0m\n\u001b[0;32m----> 1\u001b[0m tds_l\u001b[38;5;241m.\u001b[39mappend(\u001b[43mto_td\u001b[49m\u001b[43m(\u001b[49m\u001b[43mobs\u001b[49m\u001b[43m,\u001b[49m\u001b[43m \u001b[49m\u001b[43maction\u001b[49m\u001b[43m,\u001b[49m\u001b[43m \u001b[49m\u001b[43mreward\u001b[49m\u001b[43m,\u001b[49m\u001b[43m \u001b[49m\u001b[43mdist_l\u001b[49m\u001b[43m[\u001b[49m\u001b[38;5;241;43m0\u001b[39;49m\u001b[43m]\u001b[49m\u001b[43m,\u001b[49m\u001b[43m \u001b[49m\u001b[43mdist_l\u001b[49m\u001b[43m[\u001b[49m\u001b[38;5;241;43m1\u001b[39;49m\u001b[43m]\u001b[49m\u001b[43m)\u001b[49m)\n",
      "Cell \u001b[0;32mIn[10], line 14\u001b[0m, in \u001b[0;36mto_td\u001b[0;34m(self, obs, action, reward, mu, sigma_sq)\u001b[0m\n\u001b[1;32m     12\u001b[0m     mu \u001b[38;5;241m=\u001b[39m torch\u001b[38;5;241m.\u001b[39mfull_like(\u001b[38;5;28mself\u001b[39m\u001b[38;5;241m.\u001b[39menv\u001b[38;5;241m.\u001b[39mrand_act(), \u001b[38;5;28mfloat\u001b[39m(\u001b[38;5;124m'\u001b[39m\u001b[38;5;124mnan\u001b[39m\u001b[38;5;124m'\u001b[39m))\n\u001b[1;32m     13\u001b[0m \u001b[38;5;28;01mif\u001b[39;00m sigma_sq \u001b[38;5;129;01mis\u001b[39;00m \u001b[38;5;28;01mNone\u001b[39;00m:\n\u001b[0;32m---> 14\u001b[0m     sigma_sq \u001b[38;5;241m=\u001b[39m torch\u001b[38;5;241m.\u001b[39mfull_like(\u001b[38;5;28;43mself\u001b[39;49m\u001b[38;5;241;43m.\u001b[39;49m\u001b[43menv\u001b[49m\u001b[38;5;241m.\u001b[39mrand_act(), \u001b[38;5;28mfloat\u001b[39m(\u001b[38;5;124m'\u001b[39m\u001b[38;5;124mnan\u001b[39m\u001b[38;5;124m'\u001b[39m))\n\u001b[1;32m     15\u001b[0m td \u001b[38;5;241m=\u001b[39m TensorDict(\u001b[38;5;28mdict\u001b[39m(\n\u001b[1;32m     16\u001b[0m     obs\u001b[38;5;241m=\u001b[39mobs,\n\u001b[1;32m     17\u001b[0m     action\u001b[38;5;241m=\u001b[39maction\u001b[38;5;241m.\u001b[39munsqueeze(\u001b[38;5;241m0\u001b[39m),\n\u001b[0;32m   (...)\u001b[0m\n\u001b[1;32m     20\u001b[0m     sigma_sq\u001b[38;5;241m=\u001b[39msigma_sq\u001b[38;5;241m.\u001b[39munsqueeze(\u001b[38;5;241m0\u001b[39m),\n\u001b[1;32m     21\u001b[0m ), batch_size\u001b[38;5;241m=\u001b[39m(\u001b[38;5;241m1\u001b[39m,))\n\u001b[1;32m     22\u001b[0m \u001b[38;5;28;01mreturn\u001b[39;00m td\n",
      "\u001b[0;31mAttributeError\u001b[0m: 'Tensor' object has no attribute 'env'"
     ]
    }
   ],
   "source": [
    "tds_l.append(to_td(obs, action, reward, dist_l[0], dist_l[1]))"
   ]
  },
  {
   "cell_type": "code",
   "execution_count": 55,
   "metadata": {},
   "outputs": [
    {
     "data": {
      "text/plain": [
       "[]"
      ]
     },
     "execution_count": 55,
     "metadata": {},
     "output_type": "execute_result"
    }
   ],
   "source": [
    "tds_l"
   ]
  },
  {
   "cell_type": "code",
   "execution_count": 8,
   "metadata": {},
   "outputs": [
    {
     "data": {
      "text/plain": [
       "<dialectic.DialecticImitation at 0x7eff9da28190>"
      ]
     },
     "execution_count": 8,
     "metadata": {},
     "output_type": "execute_result"
    }
   ],
   "source": []
  },
  {
   "cell_type": "code",
   "execution_count": 46,
   "metadata": {},
   "outputs": [
    {
     "data": {
      "text/plain": [
       "defaultdict(float, {'success': 0.0})"
      ]
     },
     "execution_count": 46,
     "metadata": {},
     "output_type": "execute_result"
    }
   ],
   "source": [
    "info"
   ]
  },
  {
   "cell_type": "code",
   "execution_count": null,
   "metadata": {},
   "outputs": [],
   "source": []
  },
  {
   "cell_type": "code",
   "execution_count": null,
   "metadata": {},
   "outputs": [],
   "source": []
  },
  {
   "cell_type": "code",
   "execution_count": null,
   "metadata": {},
   "outputs": [],
   "source": []
  },
  {
   "cell_type": "code",
   "execution_count": null,
   "metadata": {},
   "outputs": [],
   "source": []
  }
 ],
 "metadata": {
  "kernelspec": {
   "display_name": "tdmpc2",
   "language": "python",
   "name": "python3"
  },
  "language_info": {
   "codemirror_mode": {
    "name": "ipython",
    "version": 3
   },
   "file_extension": ".py",
   "mimetype": "text/x-python",
   "name": "python",
   "nbconvert_exporter": "python",
   "pygments_lexer": "ipython3",
   "version": "3.9.0"
  }
 },
 "nbformat": 4,
 "nbformat_minor": 2
}
