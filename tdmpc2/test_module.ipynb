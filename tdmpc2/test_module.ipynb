{
 "cells": [
  {
   "cell_type": "code",
   "execution_count": 1,
   "metadata": {},
   "outputs": [],
   "source": [
    "import torch\n",
    "import torch.nn as nn\n",
    "import torch.nn.functional as F\n",
    "from functorch import combine_state_for_ensemble"
   ]
  },
  {
   "cell_type": "code",
   "execution_count": 2,
   "metadata": {},
   "outputs": [],
   "source": [
    "class SimNorm(nn.Module):\n",
    "\t\"\"\"\n",
    "\tSimplicial normalization.\n",
    "\tAdapted from https://arxiv.org/abs/2204.00616.\n",
    "\t\"\"\"\n",
    "\t\n",
    "\tdef __init__(self, cfg):\n",
    "\t\tsuper().__init__()\n",
    "\t\tself.dim = cfg.simnorm_dim\n",
    "\t\n",
    "\tdef forward(self, x):\n",
    "\t\tshp = x.shape\n",
    "\t\tx = x.view(*shp[:-1], -1, self.dim)\n",
    "\t\tx = F.softmax(x, dim=-1)\n",
    "\t\treturn x.view(*shp)\n",
    "\t\t\n",
    "\tdef __repr__(self):\n",
    "\t\treturn f\"SimNorm(dim={self.dim})\""
   ]
  },
  {
   "cell_type": "code",
   "execution_count": 3,
   "metadata": {},
   "outputs": [
    {
     "name": "stderr",
     "output_type": "stream",
     "text": [
      "/home/pipaek/miniconda3/envs/tdmpc2/lib/python3.9/site-packages/glfw/__init__.py:916: GLFWError: (65544) b'X11: The DISPLAY environment variable is missing'\n",
      "  warnings.warn(message, GLFWError)\n"
     ]
    }
   ],
   "source": [
    "import collections\n",
    "\n",
    "from dm_control import mujoco\n",
    "from dm_control.rl import control\n",
    "from dm_control.suite import base\n",
    "from dm_control.suite import common\n",
    "from dm_control.suite.utils import randomizers\n",
    "from dm_control.utils import containers\n",
    "from dm_control.utils import rewards\n",
    "\n",
    "\n",
    "_DEFAULT_TIME_LIMIT = 25\n",
    "_CONTROL_TIMESTEP = .025\n",
    "\n",
    "# Minimal height of torso over foot above which stand reward is 1.\n",
    "_STAND_HEIGHT = 1.2\n",
    "\n",
    "# Horizontal speeds (meters/second) above which move reward is 1.\n",
    "_WALK_SPEED = 1\n",
    "_RUN_SPEED = 8\n",
    "\n",
    "\n",
    "SUITE = containers.TaggedTasks()"
   ]
  },
  {
   "cell_type": "code",
   "execution_count": 4,
   "metadata": {},
   "outputs": [],
   "source": [
    "def get_model_and_assets():\n",
    "  \"\"\"Returns a tuple containing the model XML string and a dict of assets.\"\"\"\n",
    "  return common.read_model('walker.xml'), common.ASSETS"
   ]
  },
  {
   "cell_type": "code",
   "execution_count": 5,
   "metadata": {},
   "outputs": [],
   "source": [
    "class Physics(mujoco.Physics):\n",
    "  \"\"\"Physics simulation with additional features for the Walker domain.\"\"\"\n",
    "\n",
    "  def torso_upright(self):\n",
    "    \"\"\"Returns projection from z-axes of torso to the z-axes of world.\"\"\"\n",
    "    return self.named.data.xmat['torso', 'zz']\n",
    "\n",
    "  def torso_height(self):\n",
    "    \"\"\"Returns the height of the torso.\"\"\"\n",
    "    return self.named.data.xpos['torso', 'z']\n",
    "\n",
    "  def horizontal_velocity(self):\n",
    "    \"\"\"Returns the horizontal velocity of the center-of-mass.\"\"\"\n",
    "    return self.named.data.sensordata['torso_subtreelinvel'][0]\n",
    "\n",
    "  def orientations(self):\n",
    "    \"\"\"Returns planar orientations of all bodies.\"\"\"\n",
    "    return self.named.data.xmat[1:, ['xx', 'xz']].ravel()\n"
   ]
  },
  {
   "cell_type": "code",
   "execution_count": 6,
   "metadata": {},
   "outputs": [],
   "source": [
    "physics = Physics.from_xml_string(*get_model_and_assets())"
   ]
  },
  {
   "cell_type": "code",
   "execution_count": 7,
   "metadata": {},
   "outputs": [
    {
     "data": {
      "text/plain": [
       "array([1., 0., 1., 0., 1., 0., 1., 0., 1., 0., 1., 0., 1., 0.])"
      ]
     },
     "execution_count": 7,
     "metadata": {},
     "output_type": "execute_result"
    }
   ],
   "source": [
    "physics.orientations()"
   ]
  },
  {
   "cell_type": "code",
   "execution_count": 8,
   "metadata": {},
   "outputs": [
    {
     "data": {
      "text/plain": [
       "1.3"
      ]
     },
     "execution_count": 8,
     "metadata": {},
     "output_type": "execute_result"
    }
   ],
   "source": [
    "physics.torso_height()"
   ]
  },
  {
   "cell_type": "code",
   "execution_count": 9,
   "metadata": {},
   "outputs": [
    {
     "data": {
      "text/plain": [
       "array([0., 0., 0., 0., 0., 0., 0., 0., 0.])"
      ]
     },
     "execution_count": 9,
     "metadata": {},
     "output_type": "execute_result"
    }
   ],
   "source": [
    "physics.velocity()"
   ]
  },
  {
   "cell_type": "code",
   "execution_count": 10,
   "metadata": {},
   "outputs": [
    {
     "data": {
      "text/plain": [
       "<dm_control.mujoco.index.make_struct_indexer.<locals>.StructIndexer at 0x7fef0dc12370>"
      ]
     },
     "execution_count": 10,
     "metadata": {},
     "output_type": "execute_result"
    }
   ],
   "source": [
    "physics.named.data"
   ]
  },
  {
   "cell_type": "code",
   "execution_count": 12,
   "metadata": {},
   "outputs": [
    {
     "data": {
      "text/plain": [
       "FieldIndexer(xpos):\n",
       "                x         y         z         \n",
       "0       world [ 0         0         0       ]\n",
       "1       torso [ 0         0         1.3     ]\n",
       "2 right_thigh [ 0        -0.05      1       ]\n",
       "3   right_leg [ 0        -0.05      0.3     ]\n",
       "4  right_foot [ 0.06     -0.05      0.05    ]\n",
       "5  left_thigh [ 0         0.05      1       ]\n",
       "6    left_leg [ 0         0.05      0.3     ]\n",
       "7   left_foot [ 0.06      0.05      0.05    ]"
      ]
     },
     "execution_count": 12,
     "metadata": {},
     "output_type": "execute_result"
    }
   ],
   "source": [
    "physics.named.data.xpos"
   ]
  },
  {
   "cell_type": "code",
   "execution_count": 13,
   "metadata": {},
   "outputs": [
    {
     "data": {
      "text/plain": [
       "FieldIndexer(xmat):\n",
       "                xx        xy        xz        yx        yy        yz        zx        zy        zz        \n",
       "0       world [ 1         0         0         0         1         0         0\n",
       "  0         1       ]\n",
       "1       torso [ 1         0         0         0         1         0         0\n",
       "  0         1       ]\n",
       "2 right_thigh [ 1         0         0         0         1         0         0\n",
       "  0         1       ]\n",
       "3   right_leg [ 1         0         0         0         1         0         0\n",
       "  0         1       ]\n",
       "4  right_foot [ 1         0         0         0         1         0         0\n",
       "  0         1       ]\n",
       "5  left_thigh [ 1         0         0         0         1         0         0\n",
       "  0         1       ]\n",
       "6    left_leg [ 1         0         0         0         1         0         0\n",
       "  0         1       ]\n",
       "7   left_foot [ 1         0         0         0         1         0         0\n",
       "  0         1       ]"
      ]
     },
     "execution_count": 13,
     "metadata": {},
     "output_type": "execute_result"
    }
   ],
   "source": [
    "physics.named.data.xmat"
   ]
  },
  {
   "cell_type": "code",
   "execution_count": 16,
   "metadata": {},
   "outputs": [
    {
     "data": {
      "text/plain": [
       "FieldIndexer(sensordata):\n",
       "0 torso_subtreelinvel [ 0       ]\n",
       "1 torso_subtreelinvel [ 0       ]\n",
       "2 torso_subtreelinvel [ 0       ]"
      ]
     },
     "execution_count": 16,
     "metadata": {},
     "output_type": "execute_result"
    }
   ],
   "source": [
    "physics.named.data.sensordata"
   ]
  },
  {
   "cell_type": "code",
   "execution_count": 15,
   "metadata": {},
   "outputs": [
    {
     "data": {
      "text/plain": [
       "array([[1., 0.],\n",
       "       [1., 0.],\n",
       "       [1., 0.],\n",
       "       [1., 0.],\n",
       "       [1., 0.],\n",
       "       [1., 0.],\n",
       "       [1., 0.]])"
      ]
     },
     "execution_count": 15,
     "metadata": {},
     "output_type": "execute_result"
    }
   ],
   "source": [
    "physics.named.data.xmat[1:, ['xx', 'xz']]"
   ]
  },
  {
   "cell_type": "code",
   "execution_count": 18,
   "metadata": {},
   "outputs": [
    {
     "data": {
      "text/plain": [
       "array([0., 0., 0.])"
      ]
     },
     "execution_count": 18,
     "metadata": {},
     "output_type": "execute_result"
    }
   ],
   "source": [
    "physics.named.data.sensordata['torso_subtreelinvel']"
   ]
  },
  {
   "cell_type": "code",
   "execution_count": 19,
   "metadata": {},
   "outputs": [
    {
     "data": {
      "text/plain": [
       "array([0., 0., 0., 0., 0., 0., 0., 0., 0.])"
      ]
     },
     "execution_count": 19,
     "metadata": {},
     "output_type": "execute_result"
    }
   ],
   "source": [
    "physics.velocity()"
   ]
  },
  {
   "cell_type": "code",
   "execution_count": 20,
   "metadata": {},
   "outputs": [
    {
     "data": {
      "text/plain": [
       "array([0., 0., 0., 0., 0., 0., 0., 0., 0.])"
      ]
     },
     "execution_count": 20,
     "metadata": {},
     "output_type": "execute_result"
    }
   ],
   "source": [
    "physics.data.qvel"
   ]
  },
  {
   "cell_type": "code",
   "execution_count": 21,
   "metadata": {},
   "outputs": [
    {
     "data": {
      "text/plain": [
       "<dm_control.mujoco.wrapper.core.MjData at 0x7fef34bdbbe0>"
      ]
     },
     "execution_count": 21,
     "metadata": {},
     "output_type": "execute_result"
    }
   ],
   "source": [
    "physics.data"
   ]
  },
  {
   "cell_type": "code",
   "execution_count": 22,
   "metadata": {},
   "outputs": [
    {
     "data": {
      "text/plain": [
       "<mujoco._structs.MjData at 0x7fef0dbac330>"
      ]
     },
     "execution_count": 22,
     "metadata": {},
     "output_type": "execute_result"
    }
   ],
   "source": [
    "physics.data.ptr"
   ]
  },
  {
   "cell_type": "code",
   "execution_count": 24,
   "metadata": {},
   "outputs": [
    {
     "data": {
      "text/plain": [
       "FieldIndexer(qvel):\n",
       "0       rootz [ 0       ]\n",
       "1       rootx [ 0       ]\n",
       "2       rooty [ 0       ]\n",
       "3   right_hip [ 0       ]\n",
       "4  right_knee [ 0       ]\n",
       "5 right_ankle [ 0       ]\n",
       "6    left_hip [ 0       ]\n",
       "7   left_knee [ 0       ]\n",
       "8  left_ankle [ 0       ]"
      ]
     },
     "execution_count": 24,
     "metadata": {},
     "output_type": "execute_result"
    }
   ],
   "source": [
    "physics.named.data.qvel"
   ]
  },
  {
   "cell_type": "code",
   "execution_count": 25,
   "metadata": {},
   "outputs": [
    {
     "ename": "NameError",
     "evalue": "name 'env' is not defined",
     "output_type": "error",
     "traceback": [
      "\u001b[0;31m---------------------------------------------------------------------------\u001b[0m",
      "\u001b[0;31mNameError\u001b[0m                                 Traceback (most recent call last)",
      "Cell \u001b[0;32mIn[25], line 1\u001b[0m\n\u001b[0;32m----> 1\u001b[0m \u001b[43menv\u001b[49m\u001b[38;5;241m.\u001b[39maction_spec()\n",
      "\u001b[0;31mNameError\u001b[0m: name 'env' is not defined"
     ]
    }
   ],
   "source": [
    "env.action_spec()"
   ]
  },
  {
   "cell_type": "code",
   "execution_count": null,
   "metadata": {},
   "outputs": [],
   "source": []
  }
 ],
 "metadata": {
  "kernelspec": {
   "display_name": "tdmpc2",
   "language": "python",
   "name": "python3"
  },
  "language_info": {
   "codemirror_mode": {
    "name": "ipython",
    "version": 3
   },
   "file_extension": ".py",
   "mimetype": "text/x-python",
   "name": "python",
   "nbconvert_exporter": "python",
   "pygments_lexer": "ipython3",
   "version": "3.9.0"
  }
 },
 "nbformat": 4,
 "nbformat_minor": 2
}
